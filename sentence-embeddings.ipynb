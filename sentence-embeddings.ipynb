{
 "cells": [
  {
   "cell_type": "code",
   "execution_count": 2,
   "id": "4da70fff-add6-4282-b38b-c04484329abb",
   "metadata": {},
   "outputs": [
    {
     "name": "stderr",
     "output_type": "stream",
     "text": [
      "/Users/jimmyzhang/Development/sae/myenv/lib/python3.9/site-packages/tqdm/auto.py:21: TqdmWarning: IProgress not found. Please update jupyter and ipywidgets. See https://ipywidgets.readthedocs.io/en/stable/user_install.html\n",
      "  from .autonotebook import tqdm as notebook_tqdm\n",
      "/Users/jimmyzhang/Development/sae/myenv/lib/python3.9/site-packages/transformers/tokenization_utils_base.py:1617: FutureWarning: `clean_up_tokenization_spaces` was not set. It will be set to `True` by default. This behavior will be deprecated in transformers v4.45, and will be then set to `False` by default. For more details check this issue: https://github.com/huggingface/transformers/issues/31884\n",
      "  warnings.warn(\n"
     ]
    },
    {
     "name": "stdout",
     "output_type": "stream",
     "text": [
      "tensor([[-1.4466e-02, -7.4888e-02,  5.6368e-02,  4.5170e-03,  4.0891e-01,\n",
      "          2.5804e-02, -7.5612e-02,  4.7453e-01, -1.8956e-03, -1.5011e-01,\n",
      "         -1.0119e-01, -1.5718e-01, -2.1705e-01, -1.6252e-02, -4.5525e-01,\n",
      "         -2.5191e-01,  2.0256e-01, -2.0102e-02, -1.6217e-01, -8.5935e-03,\n",
      "          1.9837e-01, -3.7650e-01, -5.1490e-01, -6.7321e-02,  4.7553e-01,\n",
      "          2.2702e-01, -3.7372e-03,  2.4479e-01, -3.7153e-01,  1.7459e-02,\n",
      "          2.2193e-01, -1.3309e-01, -1.1020e-02,  1.4927e-01, -1.6918e-01,\n",
      "         -3.3690e-02,  4.0328e-02, -3.5493e-01, -4.4815e-01,  8.7867e-02,\n",
      "         -2.4535e-01, -5.4502e-02, -8.5848e-02, -8.2122e-02,  1.0064e-01,\n",
      "         -4.1189e-01,  6.9580e-02, -2.2557e-01,  7.4127e-01, -3.2274e-01,\n",
      "         -5.2064e-01,  5.7741e-01, -3.2543e-01,  1.8200e-01, -3.3087e-01,\n",
      "          2.8472e-01,  3.9729e-01, -1.5372e-01,  1.5706e-01, -2.7112e-01,\n",
      "         -1.5829e-01,  3.0283e-01,  3.3324e-01, -1.7339e-01, -3.6901e-01,\n",
      "          4.4814e-01, -2.4117e-01,  3.0746e-01, -1.8013e-01,  1.7885e-01,\n",
      "          7.5898e-03, -3.9233e-01, -1.2223e-01,  3.3068e-01, -2.6184e-02,\n",
      "          2.7726e-01,  1.9566e-02,  3.7135e-01, -3.5427e-02,  2.1945e-01,\n",
      "         -2.1726e-02,  3.4998e-01,  6.2089e-02,  6.4642e-01,  1.4670e-01,\n",
      "          9.6474e-02, -4.7752e-02, -5.6343e-04, -8.1221e-01,  5.2900e-01,\n",
      "         -2.0227e-01, -8.7443e-02, -4.4891e-01,  2.8807e-01, -2.2788e-01,\n",
      "          8.5220e-02,  1.5184e-01, -4.2879e-01,  3.0909e-01,  1.6595e-01,\n",
      "          1.1817e-01, -1.0160e-01, -1.9517e-01,  3.3915e-01, -4.1961e-01,\n",
      "         -3.1387e-01,  2.1042e-01,  1.1116e-01, -4.6362e-01,  2.0968e-01,\n",
      "          2.5672e-02, -3.0196e-01,  2.8832e-01, -7.1632e-02,  1.0036e-01,\n",
      "          6.0099e-01, -5.3618e-02,  5.8555e-03, -4.0532e-01, -5.7700e-02,\n",
      "          1.0334e-01, -1.6270e-01, -5.4230e-02,  6.0282e-01,  1.1722e-01,\n",
      "         -1.2508e-02, -2.3295e-01,  2.8025e-01,  3.0765e-01, -4.8797e-01,\n",
      "          3.7415e-01,  6.4034e-01,  1.1006e-02, -7.2071e-01, -1.2806e-01,\n",
      "          7.0593e-01,  3.5190e-01, -4.0405e-01, -4.7778e-01, -1.5564e-01,\n",
      "          9.7277e-02, -6.2523e-02,  3.9642e-01,  5.4876e-02,  5.1176e-01,\n",
      "          5.2046e-02,  6.1899e-02, -2.6804e-01,  7.2896e-02,  2.7116e-01,\n",
      "          5.8959e-02, -1.7484e-02, -2.6138e-01,  2.6955e-02, -3.4479e-01,\n",
      "         -2.7030e-03, -1.9064e-01,  2.2388e-01,  3.1121e-01,  7.0139e-01,\n",
      "          4.5558e-01, -2.9986e-01, -3.8799e-02, -3.5566e-01, -2.2397e-01,\n",
      "          2.1785e-01, -1.2092e-02,  3.5231e-01, -7.6077e-01, -2.5158e-02,\n",
      "         -1.9849e-01,  2.5566e-01,  8.1111e-01,  3.9300e-02,  6.4931e-02,\n",
      "          1.6474e-03, -9.1074e-02, -3.0760e-01,  8.6632e-02, -4.6544e-02,\n",
      "         -1.6814e+00, -3.1919e-02,  3.9190e-01,  2.5601e-01,  2.6399e-01,\n",
      "         -7.0980e-01,  2.8260e-01, -4.5276e-01,  8.8361e-02, -4.9906e-01,\n",
      "          6.9346e-03, -1.9329e-01, -3.7027e-01, -1.8294e-01,  2.2988e-01,\n",
      "         -7.0672e-01, -2.8422e-01, -1.0568e+00, -6.9574e-02, -2.3391e-01,\n",
      "         -1.9344e-04, -2.3800e-01,  2.4757e-01,  1.4585e-01, -1.3435e-01,\n",
      "          2.6265e-01, -3.9125e-02, -1.2208e-01, -9.6399e-02,  2.2775e-01,\n",
      "         -4.1947e-01,  4.8615e-01,  4.5283e-02,  3.0925e-01,  1.5423e-01,\n",
      "         -6.2226e-02, -1.3138e-02, -1.0831e-01, -9.0518e-02,  4.4261e-01,\n",
      "         -1.3887e-01,  2.5485e-02, -7.7789e-01,  3.4352e-01, -9.0903e-02,\n",
      "          6.1130e-01,  3.3316e-01, -3.0117e-01, -7.8056e-03,  2.6245e-01,\n",
      "          3.8898e-02, -4.4499e-01,  2.7017e-01,  2.9772e-01, -4.8468e-01,\n",
      "         -3.7126e-01, -3.0810e-01, -1.9069e-01,  3.7637e-01, -2.1820e-01,\n",
      "         -6.8322e-02,  4.7604e-01,  7.2020e-01, -1.3729e-01, -1.6398e-02,\n",
      "         -2.3122e-01,  2.8808e-01,  2.9886e-01, -6.3861e-01, -6.5560e-01,\n",
      "          2.0686e-01, -6.2668e-01,  5.8434e-01, -6.7680e-01, -1.7180e-02,\n",
      "         -4.6208e-01, -9.1069e-02,  2.5591e-01,  1.1651e-01,  8.8600e-02,\n",
      "          6.1590e-01, -2.5783e-01,  4.0150e-01,  1.7519e-01, -5.7760e-02,\n",
      "         -3.1138e-01, -5.4170e-02,  3.8096e-01, -1.4464e-01, -1.1587e-01,\n",
      "         -9.4042e-02, -2.3702e-01,  6.1146e-01,  8.7330e-02, -3.4574e-01,\n",
      "         -4.6055e-01,  5.5924e-01, -1.7001e-01,  1.9079e-01, -5.7535e-01,\n",
      "          3.3122e-01,  3.8111e-01, -6.4289e-01,  1.9750e-01,  2.4476e-01,\n",
      "         -3.1818e-01,  1.1561e-01, -2.7848e-01, -3.5097e-01, -3.9067e-01,\n",
      "         -9.1297e-02,  5.8796e-01, -1.3698e-01, -1.2536e-01, -5.9157e-01,\n",
      "          5.2725e-02,  9.3350e-02,  3.2943e-01,  4.6846e-01, -2.8123e-01,\n",
      "          2.2552e-01,  1.3681e-01,  5.4509e-02,  5.2443e-02, -1.5735e-02,\n",
      "          2.2787e-03, -7.1231e-03, -2.4675e-02, -3.8425e+00, -1.6401e-02,\n",
      "          1.9749e-01, -2.2693e-01,  4.0033e-01, -4.6595e-01, -3.1480e-01,\n",
      "         -2.4757e-01, -8.0993e-01,  5.4506e-01, -3.2936e-02, -4.7280e-01,\n",
      "          5.7032e-01,  1.1619e-01,  5.7917e-01, -4.9033e-01,  3.5363e-02,\n",
      "         -2.4676e-01, -5.1750e-01,  4.6270e-01, -2.7722e-01, -5.3776e-01,\n",
      "         -4.0644e-02, -3.9667e-01,  2.5786e-01,  3.1580e-01, -8.1626e-02,\n",
      "         -4.0290e-01, -2.2949e-01, -2.1664e-01,  1.3059e-01, -3.3093e-01,\n",
      "          3.5602e-01,  1.6516e-01, -5.1379e-02,  1.3124e-01,  6.8181e-02,\n",
      "          5.6517e-02,  1.6310e-01,  2.5229e-01,  2.6072e-01, -4.7854e-02,\n",
      "          8.5442e-02,  1.8037e-01,  5.4632e-01, -8.9347e-02,  4.4117e-02,\n",
      "         -6.6599e-01,  4.3146e-01,  2.1994e-01, -2.5459e-02, -8.8050e-03,\n",
      "         -2.7057e-01, -2.2525e-02, -1.0167e-01, -2.6820e-01,  2.1538e-01,\n",
      "          4.3078e-01, -4.8317e-01, -3.6039e-01,  2.4065e-01, -4.2511e-01,\n",
      "         -3.9692e-01,  4.2681e-01,  3.6141e-01, -5.4780e-01, -4.1091e-01,\n",
      "         -2.7886e-01, -1.2552e-01,  4.3613e-01,  1.7238e-01,  1.5567e-02,\n",
      "         -3.0039e-01, -1.2287e+00, -1.1025e-02,  6.0471e-02,  2.9954e-01,\n",
      "         -3.6389e-01, -3.6131e-02, -3.9911e-01,  5.3104e-02, -4.8018e-01,\n",
      "         -1.1655e-01,  1.5606e-02, -8.5507e-02, -8.6772e-01, -1.6309e-01,\n",
      "         -1.1853e-01, -1.8842e-01, -4.6579e-01,  2.1308e-01,  2.8533e-01,\n",
      "         -2.1620e-01,  3.9187e-01,  3.6541e-02, -1.5135e-02,  2.2076e-01,\n",
      "         -2.7811e-01,  1.3092e-01, -3.1637e-01,  2.3382e-01, -1.0502e-01,\n",
      "          2.8414e-01,  2.4795e-01,  4.1123e-02,  1.0705e-01, -4.7802e-01,\n",
      "          3.2240e-02,  5.5115e-02,  1.7229e-01,  2.7635e-02, -7.3531e-01,\n",
      "          3.7128e-01, -3.6728e-01, -2.2378e-01,  1.5550e-01,  7.3016e-01,\n",
      "          4.5918e-01, -7.7651e-02,  3.3790e-01, -3.4099e-01,  5.0022e-01,\n",
      "         -1.8387e-01, -3.3796e-01,  1.1402e-01, -7.3290e-03, -5.9819e-02,\n",
      "         -2.3557e-01, -3.9225e-02, -3.0966e-01, -1.5521e-01, -1.6682e-01,\n",
      "          4.9195e-02, -4.0943e-02,  1.0525e-01,  4.3712e-01, -1.7919e-01,\n",
      "         -3.1464e-01,  2.0048e-01,  1.1368e-02, -9.0712e-02,  4.7407e-01,\n",
      "          1.9130e-01,  7.2493e-03,  2.0193e-01,  2.4541e-01,  1.1609e-01,\n",
      "          1.0626e-01,  1.3714e-01,  2.8068e-01, -2.0294e-01, -8.7983e-02,\n",
      "          1.1514e-01, -1.4101e-01, -3.4613e-02, -3.2021e-01,  3.6586e-01,\n",
      "         -2.1094e-01,  1.5009e-03,  8.3327e-02, -1.3031e-02, -1.1281e-01,\n",
      "          1.6577e-01,  4.8601e-02, -1.8862e-01,  5.3260e-01,  5.7785e-01,\n",
      "         -3.2149e-01, -2.8207e-01,  4.2305e-01,  9.4467e-02, -3.4878e-01,\n",
      "          1.7316e-01,  2.6661e-01, -3.9486e-01,  3.3045e-01, -1.3838e-01,\n",
      "         -3.5525e-01, -4.1333e-01,  4.9462e-01, -1.0501e-01, -3.2042e-01,\n",
      "         -1.7482e-01, -7.4739e-02,  4.1072e-01, -3.3673e-02,  2.2061e-01,\n",
      "         -4.8676e-02,  4.4808e-01,  1.4515e-01, -6.6816e-02,  7.8852e-01,\n",
      "         -1.9755e-02,  1.9737e-01, -7.7491e-01, -3.6591e-01,  3.8936e-02,\n",
      "          4.4101e-01,  1.7138e-01, -1.4712e-01, -4.1784e-02,  6.0054e-02,\n",
      "          2.0394e-01, -2.4660e-01, -2.1239e-01, -1.3517e-01,  1.2439e-01,\n",
      "          9.4922e-02, -6.3872e-03,  8.7993e-02, -4.1101e-01, -6.3185e-01,\n",
      "         -1.3541e-01, -3.6115e-01,  8.3716e-02,  4.7428e-01,  9.0566e-02,\n",
      "         -2.7417e-01, -3.0067e-01,  3.8710e-01, -2.4024e-01,  1.0256e-02,\n",
      "         -1.2699e-01, -4.7449e-02, -1.7271e-01, -1.1195e-01, -5.2120e-01,\n",
      "          2.9314e-01, -1.2221e-01, -1.1372e-01,  5.6056e-01, -1.4113e-01,\n",
      "         -1.9771e-02, -4.6353e-02, -2.4437e-01,  2.1419e-01, -1.3879e-01,\n",
      "         -3.6466e-01,  3.2132e-01,  1.0389e-01,  4.5749e-01,  3.3237e-01,\n",
      "          2.6618e-01, -3.3554e-02,  2.5043e-01, -1.5037e-01, -1.6469e-01,\n",
      "          2.6327e-01, -2.2347e-01,  1.7536e-01,  4.1305e-01,  7.0896e-01,\n",
      "          3.8733e-01, -1.1563e-01, -1.2500e-01, -3.6961e-02, -5.9878e-01,\n",
      "         -4.9015e-02,  4.0799e-01,  1.7426e-03, -1.5176e-01, -1.4090e-01,\n",
      "         -4.8255e-01,  5.0502e-01,  2.2385e-01, -5.8302e-02, -2.3691e-01,\n",
      "          2.8384e-01,  3.0855e-01,  2.4265e-01,  2.6333e-02, -5.0807e-01,\n",
      "          4.2046e-01, -3.7265e-01, -1.5975e-01,  2.0993e-01, -2.7342e-02,\n",
      "         -5.2103e-01, -2.3068e-01, -1.1104e-01, -1.4398e-02,  5.2140e-01,\n",
      "         -4.6261e-01,  1.5798e-01, -2.5219e-01, -2.3699e-01, -3.6891e-02,\n",
      "          1.9005e-01, -1.0100e-01,  2.3024e-01,  9.2388e-02,  4.0274e-01,\n",
      "          2.0482e-01, -1.6285e-01,  4.4482e-02,  1.6987e-01,  7.1627e-01,\n",
      "          4.8801e-01, -1.1135e-01,  1.4667e-01, -5.4725e-01, -8.6478e-02,\n",
      "         -6.9123e-02, -2.0371e-01, -1.6111e-01, -8.5644e-02, -1.0059e-02,\n",
      "          2.2874e-01, -4.4259e-01,  3.5945e-01, -4.2526e-01, -3.0918e-01,\n",
      "          1.4202e-01,  5.4228e-01, -3.3196e-01,  2.0588e-01, -5.2117e-01,\n",
      "         -3.7526e-01,  2.7901e-02,  2.6390e-01,  1.0984e-01, -1.8775e-01,\n",
      "          2.4814e-01,  1.2290e-01,  2.4260e-02,  2.6903e-01, -1.4120e-01,\n",
      "          2.3879e-01,  1.8531e-02,  2.8039e-02, -1.5253e-02,  1.1651e-01,\n",
      "          1.1166e-01,  3.4132e-01,  1.1574e-01, -3.4797e-01,  4.6232e-01,\n",
      "          3.1002e-01, -5.0188e-02, -4.6480e-01,  6.7303e-02, -4.0956e-02,\n",
      "         -6.0580e-02,  2.6706e-01,  1.5773e-01, -3.3525e-01,  2.7831e-01,\n",
      "          5.7699e-02,  4.6349e-01,  4.0421e-01,  3.4572e-02,  2.9391e-01,\n",
      "         -2.9531e-02, -2.0184e-01,  2.1205e-01, -1.0302e-01,  3.2663e-01,\n",
      "          2.2959e-01, -2.4982e-01,  2.9891e-01,  3.2787e-01,  7.4868e-01,\n",
      "         -3.7687e-03, -4.3431e-01,  8.9865e-02,  3.9354e-01,  1.2945e-01,\n",
      "         -4.4494e-01,  4.6616e-02,  4.4272e-02,  4.3800e-01,  3.6034e-01,\n",
      "         -2.2967e-01,  1.1138e-01,  1.8754e-01,  4.6500e-01, -1.6361e-01,\n",
      "         -1.4334e-01, -4.3711e-01,  3.7022e-01, -2.8283e-01,  3.4558e-01,\n",
      "         -5.2603e-01, -3.7587e-01,  3.3238e-02, -4.4327e-02, -3.2208e-01,\n",
      "         -7.2395e-01, -1.4872e-01, -3.6032e-01, -1.7979e-01, -1.7508e-01,\n",
      "          3.9199e-02, -2.9759e-01,  1.5413e-01, -3.7027e-01,  5.8414e-01,\n",
      "          2.1532e-01,  2.4084e-01,  4.9964e-01,  5.7512e-01, -4.3322e-01,\n",
      "         -1.4127e-01,  4.5748e-02,  5.2949e-01, -1.4470e-01,  1.3946e-01,\n",
      "         -3.1020e-01, -1.3063e-01, -7.4904e-02,  3.9548e-01,  3.2388e-01,\n",
      "         -3.4475e-01,  2.6025e-01, -8.5023e-02,  2.6431e-02,  1.8732e-01,\n",
      "         -2.0028e-01, -4.5054e-01, -1.9796e-01,  1.1123e-01, -1.2287e-01,\n",
      "          5.9471e-02, -4.2267e-02, -3.6902e-01, -3.1319e-02,  3.5532e-01,\n",
      "          7.9502e-02, -4.0373e-02,  1.0681e-01, -2.0274e-01,  1.2537e-01,\n",
      "          3.8011e-01, -2.8078e-01,  7.4515e-02, -1.2289e-01, -3.2250e-01,\n",
      "         -5.0458e-02, -4.4619e-01, -6.6816e-01,  3.1076e-01,  2.9965e-01,\n",
      "          3.2352e-01,  3.7372e-01, -9.8290e-03, -1.5577e-01,  8.3053e-02,\n",
      "          2.0889e-01, -1.3343e-01, -5.6673e-01,  2.9133e-02,  5.8025e-02,\n",
      "         -4.7680e-01,  3.4382e-02, -6.6229e-02, -2.6393e-01,  5.5996e-02,\n",
      "         -2.6255e-01,  4.9537e-01,  7.3979e-02]])\n"
     ]
    }
   ],
   "source": [
    "from transformers import AutoTokenizer, AutoModel\n",
    "import torch\n",
    "\n",
    "tokenizer = AutoTokenizer.from_pretrained(\"bert-base-uncased\")\n",
    "model = AutoModel.from_pretrained(\"bert-base-uncased\")\n",
    "\n",
    "sentence = \"The quick brown fox jumps over the lazy dog.\"\n",
    "inputs = tokenizer(sentence, return_tensors=\"pt\")\n",
    "\n",
    "with torch.no_grad():\n",
    "    outputs = model(**inputs)\n",
    "\n",
    "# Get the mean of token embeddings to create a sentence embedding\n",
    "token_embeddings = outputs.last_hidden_state\n",
    "sentence_embedding = torch.mean(token_embeddings, dim=1)\n",
    "print(sentence_embedding)"
   ]
  },
  {
   "cell_type": "code",
   "execution_count": 3,
   "id": "40c41cb2-d75c-41af-ae54-2b29cdfb8e78",
   "metadata": {},
   "outputs": [
    {
     "data": {
      "text/plain": [
       "{'input_ids': tensor([[  101,  1996,  4248,  2829,  4419, 14523,  2058,  1996, 13971,  3899,\n",
       "          1012,   102]]), 'token_type_ids': tensor([[0, 0, 0, 0, 0, 0, 0, 0, 0, 0, 0, 0]]), 'attention_mask': tensor([[1, 1, 1, 1, 1, 1, 1, 1, 1, 1, 1, 1]])}"
      ]
     },
     "execution_count": 3,
     "metadata": {},
     "output_type": "execute_result"
    }
   ],
   "source": [
    "inputs"
   ]
  },
  {
   "cell_type": "code",
   "execution_count": 4,
   "id": "f751653c-7e70-4b4a-84c8-aabe72179f8b",
   "metadata": {},
   "outputs": [
    {
     "data": {
      "text/plain": [
       "'[CLS] the quick brown fox jumps over the lazy dog. [SEP]'"
      ]
     },
     "execution_count": 4,
     "metadata": {},
     "output_type": "execute_result"
    }
   ],
   "source": [
    "tokenizer.decode([101, 1996, 4248, 2829, 4419, 14523, 2058, 1996, 13971, 3899, 1012, 102])"
   ]
  },
  {
   "cell_type": "code",
   "execution_count": 5,
   "id": "31fec0c8-0f3a-4620-aee5-c09a3c9b0c9f",
   "metadata": {},
   "outputs": [
    {
     "name": "stdout",
     "output_type": "stream",
     "text": [
      "{'input_ids': tensor([[  101,  1996,  4248,  2829,  4419,  5598,  2058,  1996, 13971,  3899,\n",
      "          1012,   102]]), 'token_type_ids': tensor([[0, 0, 0, 0, 0, 0, 0, 0, 0, 0, 0, 0]]), 'attention_mask': tensor([[1, 1, 1, 1, 1, 1, 1, 1, 1, 1, 1, 1]])}\n",
      "Decoded text: [CLS] the quick brown fox jumped over the lazy dog. [SEP]\n"
     ]
    },
    {
     "name": "stderr",
     "output_type": "stream",
     "text": [
      "/Users/jimmyzhang/Development/sae/myenv/lib/python3.9/site-packages/transformers/tokenization_utils_base.py:1617: FutureWarning: `clean_up_tokenization_spaces` was not set. It will be set to `True` by default. This behavior will be deprecated in transformers v4.45, and will be then set to `False` by default. For more details check this issue: https://github.com/huggingface/transformers/issues/31884\n",
      "  warnings.warn(\n"
     ]
    }
   ],
   "source": [
    "from transformers import AutoTokenizer\n",
    "\n",
    "# Load a pre-trained tokenizer\n",
    "tokenizer = AutoTokenizer.from_pretrained(\"bert-base-uncased\")\n",
    "\n",
    "# Example sentence\n",
    "sentence = \"The quick brown fox jumped over the lazy dog.\"\n",
    "\n",
    "# Tokenize the sentence\n",
    "encoded_input = tokenizer(sentence, return_tensors='pt')\n",
    "\n",
    "# Display the result\n",
    "print(encoded_input)\n",
    "\n",
    "# Decode the input_ids back to text to verify\n",
    "decoded_text = tokenizer.decode(encoded_input['input_ids'][0])\n",
    "print(f\"Decoded text: {decoded_text}\")"
   ]
  },
  {
   "cell_type": "code",
   "execution_count": 6,
   "id": "4490a965-d53f-4824-bbb3-6933dcec5895",
   "metadata": {},
   "outputs": [],
   "source": [
    "decoded_text = tokenizer.decode(encoded_input['input_ids'][0][0])"
   ]
  },
  {
   "cell_type": "code",
   "execution_count": 7,
   "id": "bfa0724e-fa4e-43ea-9a31-28e344637dd9",
   "metadata": {},
   "outputs": [
    {
     "data": {
      "text/plain": [
       "'[CLS]'"
      ]
     },
     "execution_count": 7,
     "metadata": {},
     "output_type": "execute_result"
    }
   ],
   "source": [
    "decoded_text"
   ]
  },
  {
   "cell_type": "code",
   "execution_count": 9,
   "id": "ce2abd98-169b-4a17-b991-8e110dce3afb",
   "metadata": {},
   "outputs": [
    {
     "name": "stdout",
     "output_type": "stream",
     "text": [
      "the\n"
     ]
    }
   ],
   "source": [
    "print(tokenizer.decode(encoded_input['input_ids'][0][1]))"
   ]
  },
  {
   "cell_type": "code",
   "execution_count": 10,
   "id": "41cf5fbc-bab0-4a68-a15f-38b27fd0535b",
   "metadata": {},
   "outputs": [
    {
     "ename": "AttributeError",
     "evalue": "'BertModel' object has no attribute 'encode'",
     "output_type": "error",
     "traceback": [
      "\u001b[0;31m---------------------------------------------------------------------------\u001b[0m",
      "\u001b[0;31mAttributeError\u001b[0m                            Traceback (most recent call last)",
      "Cell \u001b[0;32mIn[10], line 12\u001b[0m\n\u001b[1;32m      9\u001b[0m query \u001b[38;5;241m=\u001b[39m \u001b[38;5;124m\"\u001b[39m\u001b[38;5;124mWhat is machine learning?\u001b[39m\u001b[38;5;124m\"\u001b[39m\n\u001b[1;32m     11\u001b[0m \u001b[38;5;66;03m# Encode the corpus and the query\u001b[39;00m\n\u001b[0;32m---> 12\u001b[0m corpus_embeddings \u001b[38;5;241m=\u001b[39m \u001b[43mmodel\u001b[49m\u001b[38;5;241;43m.\u001b[39;49m\u001b[43mencode\u001b[49m(corpus)\n\u001b[1;32m     13\u001b[0m query_embedding \u001b[38;5;241m=\u001b[39m model\u001b[38;5;241m.\u001b[39mencode(query)\n\u001b[1;32m     15\u001b[0m \u001b[38;5;66;03m# Compute cosine similarity between the query and each document in the corpus\u001b[39;00m\n",
      "File \u001b[0;32m~/Development/sae/myenv/lib/python3.9/site-packages/torch/nn/modules/module.py:1729\u001b[0m, in \u001b[0;36mModule.__getattr__\u001b[0;34m(self, name)\u001b[0m\n\u001b[1;32m   1727\u001b[0m     \u001b[38;5;28;01mif\u001b[39;00m name \u001b[38;5;129;01min\u001b[39;00m modules:\n\u001b[1;32m   1728\u001b[0m         \u001b[38;5;28;01mreturn\u001b[39;00m modules[name]\n\u001b[0;32m-> 1729\u001b[0m \u001b[38;5;28;01mraise\u001b[39;00m \u001b[38;5;167;01mAttributeError\u001b[39;00m(\u001b[38;5;124mf\u001b[39m\u001b[38;5;124m\"\u001b[39m\u001b[38;5;124m'\u001b[39m\u001b[38;5;132;01m{\u001b[39;00m\u001b[38;5;28mtype\u001b[39m(\u001b[38;5;28mself\u001b[39m)\u001b[38;5;241m.\u001b[39m\u001b[38;5;18m__name__\u001b[39m\u001b[38;5;132;01m}\u001b[39;00m\u001b[38;5;124m'\u001b[39m\u001b[38;5;124m object has no attribute \u001b[39m\u001b[38;5;124m'\u001b[39m\u001b[38;5;132;01m{\u001b[39;00mname\u001b[38;5;132;01m}\u001b[39;00m\u001b[38;5;124m'\u001b[39m\u001b[38;5;124m\"\u001b[39m)\n",
      "\u001b[0;31mAttributeError\u001b[0m: 'BertModel' object has no attribute 'encode'"
     ]
    }
   ],
   "source": [
    "corpus = [\n",
    "    \"Machine learning is a field of artificial intelligence.\",\n",
    "    \"Artificial intelligence is about making computers smart.\",\n",
    "    \"Deep learning is a subset of machine learning.\",\n",
    "    \"Neural networks are a type of deep learning model.\"\n",
    "]\n",
    "\n",
    "# Query\n",
    "query = \"What is machine learning?\"\n",
    "\n",
    "# Encode the corpus and the query\n",
    "corpus_embeddings = model.encode(corpus)\n",
    "query_embedding = model.encode(query)\n",
    "\n",
    "# Compute cosine similarity between the query and each document in the corpus\n",
    "cosine_similarities = cosine_similarity([query_embedding], corpus_embeddings)[0]\n",
    "\n",
    "# Find the most similar document\n",
    "most_similar_idx = np.argmax(cosine_similarities)\n",
    "print(f\"Most similar document: {corpus[most_similar_idx]}\")"
   ]
  },
  {
   "cell_type": "code",
   "execution_count": 11,
   "id": "dd738eba-1c97-4954-8799-5c3c25e70e11",
   "metadata": {},
   "outputs": [
    {
     "name": "stderr",
     "output_type": "stream",
     "text": [
      "huggingface/tokenizers: The current process just got forked, after parallelism has already been used. Disabling parallelism to avoid deadlocks...\n",
      "To disable this warning, you can either:\n",
      "\t- Avoid using `tokenizers` before the fork if possible\n",
      "\t- Explicitly set the environment variable TOKENIZERS_PARALLELISM=(true | false)\n",
      "/Users/jimmyzhang/Development/sae/myenv/lib/python3.9/site-packages/transformers/tokenization_utils_base.py:1617: FutureWarning: `clean_up_tokenization_spaces` was not set. It will be set to `True` by default. This behavior will be deprecated in transformers v4.45, and will be then set to `False` by default. For more details check this issue: https://github.com/huggingface/transformers/issues/31884\n",
      "  warnings.warn(\n"
     ]
    },
    {
     "name": "stdout",
     "output_type": "stream",
     "text": [
      "(2, 384)\n",
      "[ 8.21106508e-02  9.57397372e-02  1.09745581e-02  3.99055518e-02\n",
      "  3.58279352e-03  2.37623546e-02 -7.54154800e-03 -3.96370143e-02\n",
      "  7.53304809e-02  2.61355024e-02  7.67545626e-02 -4.00632583e-02\n",
      " -6.95517461e-04 -1.24400938e-02  2.72372831e-03  1.70454122e-02\n",
      "  4.06565815e-02 -4.97856177e-02 -4.39753681e-02  1.42886527e-02\n",
      "  1.36177251e-02  9.14743468e-02  1.47043513e-02  7.73377623e-03\n",
      "  8.07993393e-03  7.28756236e-03 -4.63310480e-02  8.05791542e-02\n",
      "  4.26285043e-02 -8.81169830e-03 -4.51241881e-02 -7.66326906e-03\n",
      "  5.41319028e-02  4.92665917e-02  2.95620933e-02 -1.62078682e-02\n",
      "  4.43056785e-03  4.29376587e-02  3.99881741e-04 -1.56984441e-02\n",
      "  3.21975462e-02 -1.88571010e-02  3.39318775e-02  2.10538786e-02\n",
      " -9.60173551e-03  5.55275753e-03 -1.30042145e-02 -3.12802084e-02\n",
      " -4.37227311e-03 -2.12491993e-02 -9.58887115e-02 -8.21873173e-02\n",
      " -2.51269732e-02 -1.54148380e-03  1.06394216e-02  4.45450842e-02\n",
      "  8.37606490e-02 -7.25318072e-03  3.55597436e-02  4.33876691e-03\n",
      " -3.71676013e-02 -2.07805298e-02 -9.21859369e-02  8.68336782e-02\n",
      "  1.44201964e-01  7.59776160e-02 -4.74196160e-03 -4.93088253e-02\n",
      " -5.22534326e-02  1.68392323e-02  9.37064271e-03  7.90055562e-03\n",
      "  1.49464887e-03 -1.91359241e-02 -7.32169375e-02 -1.88795011e-02\n",
      "  2.20756307e-02 -1.00412510e-01  1.49115399e-01  1.29045516e-01\n",
      " -6.43590093e-02 -1.01720601e-01  1.56037267e-02  6.41206652e-02\n",
      "  7.04570720e-03 -5.18575236e-02  5.42681031e-02 -1.02998778e-01\n",
      " -2.15675458e-02  1.24095744e-02 -1.28870532e-02 -1.06048308e-01\n",
      "  5.47427349e-02  1.68340653e-02 -4.77258451e-02 -4.99761105e-02\n",
      " -7.87435621e-02 -3.63131310e-03 -1.30465860e-02  1.23347610e-01\n",
      " -2.61840895e-02  2.60113738e-02  2.32851468e-02  6.25299290e-02\n",
      "  8.37025465e-04 -1.27810165e-01 -6.17954917e-02 -1.40209664e-02\n",
      "  1.16491020e-02 -6.60930499e-02 -3.28887105e-02 -1.32105248e-02\n",
      "  1.55496420e-02  1.03375809e-02  8.60683061e-03  2.62999069e-02\n",
      " -4.89763878e-02  9.13738739e-03 -3.06710484e-03  3.30027156e-02\n",
      "  2.65743714e-02  7.47518986e-02 -1.22915059e-02  9.54715628e-03\n",
      " -5.90425394e-02 -1.29456252e-01  2.70820651e-02 -8.52021081e-33\n",
      " -5.91744622e-03 -5.14468737e-02  8.56620539e-03  3.65138613e-02\n",
      " -1.45966830e-02 -1.61054451e-02 -5.17199151e-02  1.20629603e-02\n",
      " -4.07267101e-02 -5.57673611e-02 -7.64410272e-02 -6.23530932e-02\n",
      "  1.57833174e-02 -9.89718176e-03  1.26720339e-01  6.70927837e-02\n",
      " -5.05054370e-02  9.62435454e-02 -2.64321076e-04  5.68312854e-02\n",
      " -4.30348702e-02  3.26589942e-02 -1.30684357e-02 -2.05131061e-02\n",
      " -2.50107758e-02 -1.21012725e-01 -9.23146773e-03  5.01922369e-02\n",
      " -1.08796842e-02  3.58731784e-02  3.29410657e-02  8.23278576e-02\n",
      "  3.87654863e-02 -2.88285650e-02  1.81045607e-02 -2.71611083e-02\n",
      "  2.50840336e-02 -5.14066666e-02  3.46665923e-03  1.75536126e-02\n",
      " -6.52855858e-02 -1.51412319e-02 -3.33653241e-02 -4.91963476e-02\n",
      "  1.76929701e-02  8.44539702e-02  8.10913965e-02  8.51072837e-03\n",
      " -2.89519243e-02  8.20043404e-03 -3.26759145e-02  2.66255345e-02\n",
      "  6.05766326e-02 -1.70502849e-02  6.08198978e-02  3.22529413e-02\n",
      "  2.01536622e-03 -5.39726438e-03  7.00538307e-02  2.89018899e-02\n",
      " -1.37973558e-02  5.80990911e-02 -7.06339926e-02 -4.27157106e-03\n",
      " -3.86707648e-03  3.34952353e-03  7.23906513e-03  1.80444513e-02\n",
      "  4.67357486e-02  8.97937862e-04 -1.62052121e-02 -7.97787979e-02\n",
      " -2.15549152e-02  7.47355223e-02 -2.32541282e-02 -3.72687876e-02\n",
      "  7.11381361e-02  2.49697361e-02  4.36435730e-05  8.12913701e-02\n",
      " -3.31593752e-02 -1.25481829e-01  8.65559187e-03 -1.14465617e-02\n",
      " -3.04945540e-02 -1.77541666e-03 -2.96904389e-02 -6.80274069e-02\n",
      " -2.65341774e-02  3.18537839e-02 -1.37694329e-02  1.30155282e-02\n",
      "  6.05505556e-02 -1.89317949e-02 -1.37981139e-02  4.06048956e-33\n",
      " -4.46481220e-02  2.31561940e-02 -4.39708345e-02  6.56695738e-02\n",
      "  9.63804275e-02 -7.00966045e-02 -3.21982466e-02 -4.32467125e-02\n",
      "  1.66879017e-02  1.25058249e-01 -1.08942114e-01  3.46500389e-02\n",
      "  5.77114038e-02  1.06118771e-03  6.54483512e-02  3.33081111e-02\n",
      "  5.33714071e-02  1.53623419e-02  5.63350692e-03 -1.26570286e-02\n",
      " -4.44749594e-02  1.06020264e-01 -3.07833422e-02  1.32098302e-01\n",
      " -2.01423187e-02  3.18344161e-02  6.22665286e-02 -7.76376352e-02\n",
      " -1.04851432e-01  5.01509011e-02 -4.31515463e-03 -1.05465949e-01\n",
      " -7.83430710e-02 -3.30658741e-02 -1.17848190e-02  1.35030383e-02\n",
      "  2.63817478e-02 -2.36309655e-02 -8.08994621e-02  1.19015630e-02\n",
      "  2.96916291e-02 -3.08282170e-02  2.60121673e-02  9.36051086e-02\n",
      "  2.58034132e-02 -4.55620959e-02 -5.84590621e-02 -8.66820961e-02\n",
      "  1.41430078e-02  5.33520468e-02 -2.12531034e-02  5.31584583e-02\n",
      "  1.74566731e-02 -8.04805756e-03 -8.42653438e-02  3.57745960e-02\n",
      " -1.79753304e-02 -8.65099654e-02 -2.06346866e-02 -3.65643650e-02\n",
      " -7.51139671e-02  2.49586422e-02 -7.14321136e-02  3.91448960e-02\n",
      "  7.58951455e-02 -5.09369448e-02 -5.52416407e-02  7.15509579e-02\n",
      "  3.45006548e-02 -6.69451505e-02  1.24092303e-01 -6.05926570e-03\n",
      " -1.38031065e-01 -2.79829130e-02 -6.62637874e-02 -9.35158134e-02\n",
      " -9.56737623e-02 -4.60449159e-02 -4.38863337e-02 -5.67479506e-02\n",
      "  5.56031875e-02 -3.14787365e-02  4.46924157e-02 -4.86342534e-02\n",
      " -1.05523726e-03 -8.14075768e-03 -1.16852755e-02 -7.02132434e-02\n",
      " -3.06642167e-02  5.91975357e-03 -2.79275533e-02 -6.69823289e-02\n",
      "  6.39635250e-02  1.22282952e-02 -3.89487878e-03 -2.22912497e-08\n",
      " -1.50681976e-02 -2.70253830e-02 -1.73072983e-02 -6.08437636e-04\n",
      "  5.13861515e-03  1.01089671e-01  5.77858947e-02  8.14719405e-03\n",
      " -1.00550875e-02 -4.32865834e-03  8.01457539e-02  2.32878178e-02\n",
      " -7.16380030e-02  5.00020292e-03  5.07173166e-02  3.76368985e-02\n",
      "  2.20129415e-02 -2.45668367e-02 -3.45233120e-02  4.23367172e-02\n",
      " -1.72801539e-02  3.52148265e-02 -7.37724407e-03  3.31886299e-02\n",
      "  2.38604136e-02  3.54628614e-03  7.29072243e-02 -1.74702401e-03\n",
      " -5.96280326e-04  7.47229829e-02  4.68910858e-02  6.60506338e-02\n",
      "  1.01839751e-02  4.28731292e-02  3.51410061e-02  2.89487024e-03\n",
      "  4.56104092e-02 -7.20656812e-02  6.16008230e-02 -4.85745557e-02\n",
      "  2.41210163e-02  8.47680867e-02 -4.39316556e-02  1.11586168e-01\n",
      "  1.16564268e-02 -1.96695644e-02  1.30013768e-02 -3.52218449e-02\n",
      " -1.90247148e-02 -3.60499765e-03  6.93165325e-03  3.83697040e-02\n",
      "  8.27966779e-02  1.23964984e-03  3.80862802e-02 -4.11863774e-02\n",
      " -3.21489386e-02 -2.80945841e-02 -4.44391593e-02 -3.51566449e-02\n",
      "  1.11571802e-02 -2.96181440e-02  1.84911583e-02 -1.00239947e-01]\n"
     ]
    }
   ],
   "source": [
    "from sentence_transformers import SentenceTransformer\n",
    "\n",
    "# Load a pre-trained sentence transformer model\n",
    "model = SentenceTransformer('all-MiniLM-L6-v2')\n",
    "\n",
    "# Example sentences\n",
    "sentences = [\"This is a sentence.\", \"Each sentence will have its own embedding.\"]\n",
    "\n",
    "# Generate embeddings for the sentences\n",
    "embeddings = model.encode(sentences)\n",
    "\n",
    "# Output the shape of the embeddings\n",
    "print(embeddings.shape)  # Output: (2, 384) -> 2 sentences, each with a 384-dimensional embedding\n",
    "\n",
    "# Print the actual embedding for the first sentence\n",
    "print(embeddings[0])  # The embedding vector for the first sentence"
   ]
  },
  {
   "cell_type": "code",
   "execution_count": 14,
   "id": "aaadb04a-74f5-4133-8a72-bbd3de902318",
   "metadata": {},
   "outputs": [
    {
     "name": "stdout",
     "output_type": "stream",
     "text": [
      "Most similar document: Machine learning is a field of artificial intelligence.\n"
     ]
    }
   ],
   "source": [
    "# Example corpus (documents)\n",
    "corpus = [\n",
    "    \"Machine learning is a field of artificial intelligence.\",\n",
    "    \"Artificial intelligence is about making computers smart.\",\n",
    "    \"Deep learning is a subset of machine learning.\",\n",
    "    \"Neural networks are a type of deep learning model.\"\n",
    "]\n",
    "\n",
    "# Query\n",
    "query = \"What is machine learning?\"\n",
    "\n",
    "# Encode the corpus and the query\n",
    "corpus_embeddings = model.encode(corpus)\n",
    "query_embedding = model.encode(query)\n",
    "\n",
    "# Compute cosine similarity between the query and each document in the corpus\n",
    "cosine_similarities = cosine_similarity([query_embedding], corpus_embeddings)[0]\n",
    "\n",
    "# Find the most similar document\n",
    "most_similar_idx = np.argmax(cosine_similarities)\n",
    "print(f\"Most similar document: {corpus[most_similar_idx]}\")"
   ]
  },
  {
   "cell_type": "code",
   "execution_count": 13,
   "id": "45538581-477b-4d30-b19f-a3644b7d8448",
   "metadata": {},
   "outputs": [
    {
     "name": "stdout",
     "output_type": "stream",
     "text": [
      "[[1.         0.8089289  0.55689603]\n",
      " [0.8089289  1.         0.6168437 ]\n",
      " [0.55689603 0.6168437  0.9999998 ]]\n"
     ]
    }
   ],
   "source": [
    "import numpy as np\n",
    "from sklearn.metrics.pairwise import cosine_similarity\n",
    "\n",
    "# Example sentences\n",
    "sentences = [\"This is a sentence.\", \"This is a similar sentence.\", \"This sentence is completely different.\"]\n",
    "\n",
    "# Generate embeddings\n",
    "embeddings = model.encode(sentences)\n",
    "\n",
    "# Compute cosine similarity between sentence embeddings\n",
    "similarity_matrix = cosine_similarity(embeddings)\n",
    "\n",
    "# Print the similarity matrix\n",
    "print(similarity_matrix)"
   ]
  },
  {
   "cell_type": "code",
   "execution_count": 18,
   "id": "beaf9648-1b97-403b-bcfa-ace8842ac72c",
   "metadata": {},
   "outputs": [
    {
     "data": {
      "image/png": "[encoded data removed]",
      "text/plain": [
       "<Figure size 1000x600 with 1 Axes>"
      ]
     },
     "metadata": {},
     "output_type": "display_data"
    }
   ],
   "source": [
    "import matplotlib.pyplot as plt\n",
    "from sklearn.decomposition import PCA\n",
    "\n",
    "# Example sentences\n",
    "sentences = [\n",
    "    \"The cat sits on the mat.\",\n",
    "    \"A dog plays in the park.\",\n",
    "    \"Birds are flying in the sky.\",\n",
    "    \"The sky is clear and blue.\",\n",
    "    \"This sentence is about animals.\",\n",
    "    \"This sentence is about nature.\",\n",
    "    \"LeBron James is the greatest basketball player ever.\",\n",
    "    \"I do squats and deadlifts daily\"\n",
    "]\n",
    "\n",
    "# Generate embeddings\n",
    "embeddings = model.encode(sentences)\n",
    "\n",
    "# Reduce dimensions to 2D using PCA\n",
    "pca = PCA(n_components=2)\n",
    "reduced_embeddings = pca.fit_transform(embeddings)\n",
    "\n",
    "# Plot the reduced embeddings\n",
    "plt.figure(figsize=(10, 6))\n",
    "for i, sentence in enumerate(sentences):\n",
    "    x, y = reduced_embeddings[i]\n",
    "    plt.scatter(x, y)\n",
    "    plt.text(x+0.01, y+0.01, sentence, fontsize=12)\n",
    "plt.show()"
   ]
  },
  {
   "cell_type": "code",
   "execution_count": 22,
   "id": "20702975-ae75-4588-bcc8-de441baa1b74",
   "metadata": {},
   "outputs": [
    {
     "name": "stdout",
     "output_type": "stream",
     "text": [
      "Sentence: 'I love playing football.' is in cluster 1\n",
      "Sentence: 'Soccer is a popular sport worldwide.' is in cluster 1\n",
      "Sentence: 'Artificial intelligence is transforming industries.' is in cluster 0\n",
      "Sentence: 'Machine learning is a subset of AI.' is in cluster 0\n",
      "Sentence: 'Deep learning is part of AI.' is in cluster 0\n",
      "Sentence: 'Many people enjoy playing basketball.' is in cluster 1\n"
     ]
    }
   ],
   "source": [
    "from sklearn.cluster import KMeans\n",
    "\n",
    "# Example sentences\n",
    "sentences = [\n",
    "    \"I love playing football.\",\n",
    "    \"Soccer is a popular sport worldwide.\",\n",
    "    \"Artificial intelligence is transforming industries.\",\n",
    "    \"Machine learning is a subset of AI.\",\n",
    "    \"Deep learning is part of AI.\",\n",
    "    \"Many people enjoy playing basketball.\"\n",
    "]\n",
    "\n",
    "# Generate embeddings\n",
    "embeddings = model.encode(sentences)\n",
    "\n",
    "# Cluster the embeddings using KMeans\n",
    "num_clusters = 2\n",
    "kmeans = KMeans(n_clusters=num_clusters)\n",
    "kmeans.fit(embeddings)\n",
    "\n",
    "# Print cluster assignments for each sentence\n",
    "for i, sentence in enumerate(sentences):\n",
    "    print(f\"Sentence: '{sentence}' is in cluster {kmeans.labels_[i]}\")"
   ]
  },
  {
   "cell_type": "code",
   "execution_count": null,
   "id": "a6b40b92-4864-485b-861e-e5e41f9e9915",
   "metadata": {},
   "outputs": [],
   "source": []
  }
 ],
 "metadata": {
  "kernelspec": {
   "display_name": "Python 3 (ipykernel)",
   "language": "python",
   "name": "python3"
  },
  "language_info": {
   "codemirror_mode": {
    "name": "ipython",
    "version": 3
   },
   "file_extension": ".py",
   "mimetype": "text/x-python",
   "name": "python",
   "nbconvert_exporter": "python",
   "pygments_lexer": "ipython3",
   "version": "3.10.0"
  }
 },
 "nbformat": 4,
 "nbformat_minor": 5
}
