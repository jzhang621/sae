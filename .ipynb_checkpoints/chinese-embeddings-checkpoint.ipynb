{
 "cells": [
  {
   "cell_type": "code",
   "execution_count": null,
   "id": "20cf9635-1346-450b-9fdf-dd0f3d71a0cc",
   "metadata": {},
   "outputs": [
    {
     "name": "stderr",
     "output_type": "stream",
     "text": [
      "/Users/jimmyzhang/Development/sae/myenv/lib/python3.10/site-packages/tqdm/auto.py:21: TqdmWarning: IProgress not found. Please update jupyter and ipywidgets. See https://ipywidgets.readthedocs.io/en/stable/user_install.html\n",
      "  from .autonotebook import tqdm as notebook_tqdm\n"
     ]
    }
   ],
   "source": [
    "from transformers import BertModel, BertTokenizer\n",
    "import torch\n",
    "import numpy as np\n",
    "from sklearn.metrics.pairwise import cosine_similarity\n",
    "\n",
    "# Load pre-trained multilingual BERT model and tokenizer\n",
    "tokenizer = BertTokenizer.from_pretrained('bert-base-multilingual-cased')\n",
    "model = BertModel.from_pretrained('bert-base-multilingual-cased')\n",
    "\n",
    "def get_embedding(text, tokenizer, model):\n",
    "    # Tokenize input text and get embeddings\n",
    "    inputs = tokenizer(text, return_tensors=\"pt\", padding=True, truncation=True)\n",
    "    with torch.no_grad():\n",
    "        outputs = model(**inputs)\n",
    "    # Take the mean of the hidden states for sentence-level embedding\n",
    "    embeddings = outputs.last_hidden_state.mean(dim=1).squeeze()\n",
    "    return embeddings.numpy()\n",
    "\n",
    "# Example idioms and phrases (replace with actual Chinese idioms and English phrases)\n",
    "chinese_idioms = [\"对牛弹琴\"] #, \"画蛇添足\", \"守株待兔\"]\n",
    "english_phrases = [\"preaching to the choir\"] # \"overdoing something\", \"waiting for something to happen\"]\n",
    "\n",
    "# Get embeddings for Chinese idioms\n",
    "chinese_embeddings = [get_embedding(idiom, tokenizer, model) for idiom in chinese_idioms]\n",
    "\n",
    "# Get embeddings for English phrases\n",
    "english_embeddings = [get_embedding(phrase, tokenizer, model) for phrase in english_phrases]\n",
    "\n",
    "# Compare embeddings using cosine similarity\n",
    "similarity_matrix = cosine_similarity(chinese_embeddings, english_embeddings)\n",
    "\n",
    "# Output the similarity scores\n",
    "for i, idiom in enumerate(chinese_idioms):\n",
    "    for j, phrase in enumerate(english_phrases):\n",
    "        print(f\"Similarity between '{idiom}' and '{phrase}': {similarity_matrix[i, j]:.4f}\")"
   ]
  },
  {
   "cell_type": "code",
   "execution_count": null,
   "id": "bb3dd0f0-df5c-4f73-9927-c5b37af0a321",
   "metadata": {},
   "outputs": [],
   "source": []
  }
 ],
 "metadata": {
  "kernelspec": {
   "display_name": "Python 3 (ipykernel)",
   "language": "python",
   "name": "python3"
  },
  "language_info": {
   "codemirror_mode": {
    "name": "ipython",
    "version": 3
   },
   "file_extension": ".py",
   "mimetype": "text/x-python",
   "name": "python",
   "nbconvert_exporter": "python",
   "pygments_lexer": "ipython3",
   "version": "3.10.0"
  }
 },
 "nbformat": 4,
 "nbformat_minor": 5
}
